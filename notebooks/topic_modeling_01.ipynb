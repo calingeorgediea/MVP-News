{
 "cells": [
  {
   "cell_type": "code",
   "execution_count": 2,
   "metadata": {},
   "outputs": [
    {
     "name": "stdout",
     "output_type": "stream",
     "text": [
      "Topic 0: 'guvern',, 'lege',, 'greva',, 'salarizare',, 'sindicat',\n",
      "Topic 1: 'spune',, 'elev',, 'loc',, 'face',, 'veni',\n",
      "Topic 2: an',, miliard, leu',, 'el',, 'pensie',\n",
      "Topic 3: 'Ucraina',, 'Rusia',, 'rus',, 'razboi',, 'atac',\n",
      "Topic 4: 'cookie',, '-urile',, 'el',, 'roman',, 'permite',\n"
     ]
    }
   ],
   "source": [
    "import pandas as pd\n",
    "from gensim import corpora\n",
    "from gensim.models import LdaModel\n",
    "from gensim.models.ldamulticore import LdaMulticore\n",
    "\n",
    "# Load the CSV file with tokenized content\n",
    "df = pd.read_csv(\"out.csv\")\n",
    "\n",
    "# Create a list of tokenized documents\n",
    "tokenized_docs = [doc.split() for doc in df[\"processed_content\"].values]\n",
    "\n",
    "# Create a dictionary representation of the documents\n",
    "dictionary = corpora.Dictionary(tokenized_docs)\n",
    "\n",
    "# Filter out tokens that appear in less than 5 documents or more than 50% of the documents\n",
    "dictionary.filter_extremes(no_below=5, no_above=0.5)\n",
    "\n",
    "# Create a bag-of-words representation of the documents\n",
    "corpus = [dictionary.doc2bow(doc) for doc in tokenized_docs]\n",
    "\n",
    "# Set number of topics\n",
    "num_topics = 10\n",
    "\n",
    "# Build the LDA model\n",
    "lda_model = LdaMulticore(corpus=corpus,\n",
    "                         id2word=dictionary,\n",
    "                         num_topics=num_topics,\n",
    "                         workers=3,  # Adjust based on your system\n",
    "                         passes=100)  # Number of passes through the corpus\n",
    "\n",
    "# Print the top 5 terms for each topic\n",
    "for idx, topic in lda_model.print_topics(-1):\n",
    "    terms = topic.split(\"+\")\n",
    "    terms = [term.split(\"*\")[1].strip().replace('\"', '') for term in terms][:5]\n",
    "    print(\"Topic {}: {}\".format(idx, \", \".join(terms)))\n",
    "\n",
    "# Save the model if needed\n",
    "# lda_model.save(\"lda_model\")\n"
   ]
  }
 ],
 "metadata": {
  "kernelspec": {
   "display_name": "Python 3 (ipykernel)",
   "language": "python",
   "name": "python3"
  },
  "language_info": {
   "codemirror_mode": {
    "name": "ipython",
    "version": 3
   },
   "file_extension": ".py",
   "mimetype": "text/x-python",
   "name": "python",
   "nbconvert_exporter": "python",
   "pygments_lexer": "ipython3",
   "version": "3.11.5"
  }
 },
 "nbformat": 4,
 "nbformat_minor": 2
}
